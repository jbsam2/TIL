{
 "cells": [
  {
   "cell_type": "markdown",
   "metadata": {
    "colab_type": "text",
    "id": "gewkTZ7z1WUx"
   },
   "source": [
    "# Practice 1\n",
    "\n",
    "> 데이터 & 제어문"
   ]
  },
  {
   "cell_type": "markdown",
   "metadata": {
    "colab_type": "text",
    "id": "K2LHnhM91WUy"
   },
   "source": [
    "## 갯수 구하기\n",
    "\n",
    "> 주어진 리스트의 요소는 학생 이름으로 구성되어 있다. 학생들의 수를 출력하시오.\n",
    "\n",
    "---\n",
    "\n",
    "```\n",
    "[출력 예시]\n",
    "3\n",
    "```"
   ]
  },
  {
   "cell_type": "code",
   "execution_count": 15,
   "metadata": {
    "ExecuteTime": {
     "end_time": "2020-07-20T07:21:43.556594Z",
     "start_time": "2020-07-20T07:21:43.553351Z"
    },
    "colab": {
     "base_uri": "https://localhost:8080/",
     "height": 53
    },
    "colab_type": "code",
    "executionInfo": {
     "elapsed": 1930,
     "status": "ok",
     "timestamp": 1595307962443,
     "user": {
      "displayName": "Jinbeom Koo",
      "photoUrl": "https://lh5.googleusercontent.com/-1qcr4du_GY0/AAAAAAAAAAI/AAAAAAAAAEM/g56A3edFKIk/s64/photo.jpg",
      "userId": "00040056695428821008"
     },
     "user_tz": -540
    },
    "id": "fwMiBW-F1WUz",
    "outputId": "82a687d7-c753-4783-a235-d4fcdd4dcfa3"
   },
   "outputs": [
    {
     "name": "stdout",
     "output_type": "stream",
     "text": [
      "3\n",
      "3\n"
     ]
    }
   ],
   "source": [
    "students = ['김철수', '이영희', '조민지']\n",
    "\n",
    "# 아래에 코드를 작성하시오.\n",
    "cnt = 0\n",
    "for student in students:\n",
    "    cnt += 1\n",
    "print(cnt)\n",
    "\n",
    "\n",
    "print(len(students))"
   ]
  },
  {
   "cell_type": "markdown",
   "metadata": {
    "colab_type": "text",
    "id": "tL5K89Z-1WU3"
   },
   "source": [
    "## 득표수 구하기\n",
    "\n",
    "> 주어진 리스트는 반장 선거 투표 결과이다. 이영희의 총 득표수를 출력하시오.\n",
    "\n",
    "---\n",
    "\n",
    "```\n",
    "[출력 예시]\n",
    "4\n",
    "```"
   ]
  },
  {
   "cell_type": "code",
   "execution_count": null,
   "metadata": {
    "colab": {
     "base_uri": "https://localhost:8080/",
     "height": 35
    },
    "colab_type": "code",
    "executionInfo": {
     "elapsed": 1320,
     "status": "ok",
     "timestamp": 1595292433472,
     "user": {
      "displayName": "Jinbeom Koo",
      "photoUrl": "https://lh5.googleusercontent.com/-1qcr4du_GY0/AAAAAAAAAAI/AAAAAAAAAEM/g56A3edFKIk/s64/photo.jpg",
      "userId": "00040056695428821008"
     },
     "user_tz": -540
    },
    "id": "0zDmbIfR1WU3",
    "outputId": "287700bb-23f3-4084-e73f-e1b6158f9f1c"
   },
   "outputs": [
    {
     "name": "stdout",
     "output_type": "stream",
     "text": [
      "4\n"
     ]
    }
   ],
   "source": [
    "students = ['이영희', '김철수', '이영희', '조민지', '김철수', '조민지', '이영희', '이영희']\n",
    "\n",
    "# 아래에 코드를 작성하시오.\n",
    "\n",
    "cnt = 0\n",
    "for student in students:\n",
    "  if student == '이영희':\n",
    "    cnt += 1\n",
    "print(cnt)"
   ]
  },
  {
   "cell_type": "markdown",
   "metadata": {
    "colab_type": "text",
    "id": "ja6CtJNx1WU6"
   },
   "source": [
    "## 최댓값 구하기\n",
    "\n",
    "> 주어진 리스트의 요소 중에서 최댓값을 출력하시오.\n",
    "\n",
    "---\n",
    "```\n",
    "[출력 예시]\n",
    "22\n",
    "```"
   ]
  },
  {
   "cell_type": "code",
   "execution_count": 18,
   "metadata": {
    "colab": {
     "base_uri": "https://localhost:8080/",
     "height": 35
    },
    "colab_type": "code",
    "executionInfo": {
     "elapsed": 930,
     "status": "ok",
     "timestamp": 1595308607727,
     "user": {
      "displayName": "Jinbeom Koo",
      "photoUrl": "https://lh5.googleusercontent.com/-1qcr4du_GY0/AAAAAAAAAAI/AAAAAAAAAEM/g56A3edFKIk/s64/photo.jpg",
      "userId": "00040056695428821008"
     },
     "user_tz": -540
    },
    "id": "sZLUQLzo1WU6",
    "outputId": "28f89489-1a5f-4ffe-b1a6-2a9194c4bc57"
   },
   "outputs": [
    {
     "name": "stdout",
     "output_type": "stream",
     "text": [
      "22\n"
     ]
    }
   ],
   "source": [
    "numbers = [7, 10, 22, 4, 3, 17]\n",
    "\n",
    "# 아래에 코드를 작성하시오.\n",
    "\n",
    "max_num = 0\n",
    "for number in numbers:\n",
    "  if number >= max_num:\n",
    "    max_num = number\n",
    "print(max_num)"
   ]
  },
  {
   "cell_type": "markdown",
   "metadata": {
    "colab_type": "text",
    "id": "xxd9hIuM1WU8"
   },
   "source": [
    "## 최솟값 구하기\n",
    "\n",
    "> 주어진 리스트의 요소 중에서 최솟값을 출력하시오.\n",
    "---\n",
    "```\n",
    "[출력 예시]\n",
    "3\n",
    "```"
   ]
  },
  {
   "cell_type": "code",
   "execution_count": 19,
   "metadata": {
    "colab": {
     "base_uri": "https://localhost:8080/",
     "height": 35
    },
    "colab_type": "code",
    "executionInfo": {
     "elapsed": 859,
     "status": "ok",
     "timestamp": 1595308622505,
     "user": {
      "displayName": "Jinbeom Koo",
      "photoUrl": "https://lh5.googleusercontent.com/-1qcr4du_GY0/AAAAAAAAAAI/AAAAAAAAAEM/g56A3edFKIk/s64/photo.jpg",
      "userId": "00040056695428821008"
     },
     "user_tz": -540
    },
    "id": "pLB6cN4G1WU9",
    "outputId": "f88014a8-7922-4c70-de8f-f913fb607011"
   },
   "outputs": [
    {
     "name": "stdout",
     "output_type": "stream",
     "text": [
      "3\n"
     ]
    }
   ],
   "source": [
    "numbers = [7, 10, 22, 4, 3, 17]\n",
    "\n",
    "# 아래에 코드를 작성하시오.\n",
    "\n",
    "min_num = 2e1000\n",
    "for number in numbers:\n",
    "  if number <= min_num:\n",
    "    min_num = number\n",
    "print(min_num)"
   ]
  },
  {
   "cell_type": "markdown",
   "metadata": {
    "colab_type": "text",
    "id": "Qwztdwjt1WU_"
   },
   "source": [
    "## 최댓값과 등장 횟수 구하기\n",
    "\n",
    "> 주어진 리스트의 요소 중에서 최댓값과 등장 횟수를 출력하시오.\n",
    "\n",
    "---\n",
    "\n",
    "```\n",
    "[출력 예시]\n",
    "22 3\n",
    "```"
   ]
  },
  {
   "cell_type": "code",
   "execution_count": 21,
   "metadata": {
    "ExecuteTime": {
     "end_time": "2020-07-20T07:14:08.319167Z",
     "start_time": "2020-07-20T07:14:08.316606Z"
    },
    "colab": {
     "base_uri": "https://localhost:8080/",
     "height": 53
    },
    "colab_type": "code",
    "executionInfo": {
     "elapsed": 899,
     "status": "ok",
     "timestamp": 1595309825031,
     "user": {
      "displayName": "Jinbeom Koo",
      "photoUrl": "https://lh5.googleusercontent.com/-1qcr4du_GY0/AAAAAAAAAAI/AAAAAAAAAEM/g56A3edFKIk/s64/photo.jpg",
      "userId": "00040056695428821008"
     },
     "user_tz": -540
    },
    "id": "imrnMsBA1WU_",
    "outputId": "e46e3f3d-4e57-4379-c42b-7064c9425598"
   },
   "outputs": [
    {
     "name": "stdout",
     "output_type": "stream",
     "text": [
      "22 3\n",
      "22 3\n"
     ]
    }
   ],
   "source": [
    "numbers = [7, 10, 22, 7, 22, 22]\n",
    "\n",
    "# 아래에 코드를 작성하시오.\n",
    "max_num = cnt = 0\n",
    "for number in numbers:\n",
    "  if number >= max_num:\n",
    "    max_num = number\n",
    "for number in numbers:\n",
    "  if number == max_num:\n",
    "    cnt += 1\n",
    "print(f'{max_num} {cnt}')\n",
    "\n",
    "max_number = numbers[0]\n",
    "count = 0\n",
    "for number in numbers:\n",
    "  if number > max_number:\n",
    "    max_number = number\n",
    "    count = 1\n",
    "  elif number == max_number:\n",
    "    count += 1\n",
    "print(f'{max_number} {count}')"
   ]
  },
  {
   "cell_type": "markdown",
   "metadata": {
    "colab_type": "text",
    "id": "nye5dE521WVB"
   },
   "source": [
    "## 5의 개수 구하기\n",
    "\n",
    "> 주어진 리스트의 요소 중에서 5의 개수를 출력하시오.\n",
    "---\n",
    "```\n",
    "[출력 예시]\n",
    "3\n",
    "```"
   ]
  },
  {
   "cell_type": "code",
   "execution_count": null,
   "metadata": {
    "colab": {
     "base_uri": "https://localhost:8080/",
     "height": 35
    },
    "colab_type": "code",
    "executionInfo": {
     "elapsed": 861,
     "status": "ok",
     "timestamp": 1595292626226,
     "user": {
      "displayName": "Jinbeom Koo",
      "photoUrl": "https://lh5.googleusercontent.com/-1qcr4du_GY0/AAAAAAAAAAI/AAAAAAAAAEM/g56A3edFKIk/s64/photo.jpg",
      "userId": "00040056695428821008"
     },
     "user_tz": -540
    },
    "id": "COMKCTVj1WVC",
    "outputId": "60b8138e-d305-4a74-d872-aeef6cba046c"
   },
   "outputs": [
    {
     "name": "stdout",
     "output_type": "stream",
     "text": [
      "3\n"
     ]
    }
   ],
   "source": [
    "numbers = [7, 17, 10, 5, 4, 3, 17, 5, 2, 5]\n",
    "\n",
    "# 아래에 코드를 작성하시오.\n",
    "cnt = 0\n",
    "for number in numbers:\n",
    "  if number == 5:\n",
    "    cnt += 1\n",
    "print(cnt)\n"
   ]
  },
  {
   "cell_type": "markdown",
   "metadata": {
    "colab_type": "text",
    "id": "6EPGjcqp1WVE"
   },
   "source": [
    "## 'a'가 싫어\n",
    "\n",
    "\n",
    "> 입력으로 짧은 영단어 word가 주어질 때, 해당 단어에서 'a'를 모두 제거한 결과를 출력하시오.\n",
    "\n",
    "---\n",
    "```\n",
    "[입력 예시]\n",
    "apple\n",
    "\n",
    "[출력 예시]\n",
    "pple\n",
    "```"
   ]
  },
  {
   "cell_type": "code",
   "execution_count": null,
   "metadata": {
    "colab": {
     "base_uri": "https://localhost:8080/",
     "height": 53
    },
    "colab_type": "code",
    "executionInfo": {
     "elapsed": 4594,
     "status": "ok",
     "timestamp": 1595292868160,
     "user": {
      "displayName": "Jinbeom Koo",
      "photoUrl": "https://lh5.googleusercontent.com/-1qcr4du_GY0/AAAAAAAAAAI/AAAAAAAAAEM/g56A3edFKIk/s64/photo.jpg",
      "userId": "00040056695428821008"
     },
     "user_tz": -540
    },
    "id": "s_qbC86o1WVE",
    "outputId": "4dc6a15a-b777-4413-b424-7ec4193784e3"
   },
   "outputs": [
    {
     "name": "stdout",
     "output_type": "stream",
     "text": [
      "apple\n",
      "pple\n"
     ]
    }
   ],
   "source": [
    "word = input()\n",
    "\n",
    "# 아래에 코드를 작성하시오.\n",
    "ans_str = ''\n",
    "for alphabet in word:\n",
    "  if alphabet != 'a':\n",
    "    ans_str += alphabet\n",
    "print(ans_str)"
   ]
  },
  {
   "cell_type": "markdown",
   "metadata": {
    "colab_type": "text",
    "id": "IWqwe9VT1WVG"
   },
   "source": [
    "## 단어 뒤집기\n",
    "\n",
    "> 입력으로 짧은 영어단어 word가 주어질 때, 해당 단어를 역순으로 뒤집은 결과를 출력하시오.\n",
    "\n",
    "---\n",
    "```\n",
    "[입력 예시]\n",
    "apple\n",
    "\n",
    "[출력 예시]\n",
    "elppa\n",
    "```"
   ]
  },
  {
   "cell_type": "code",
   "execution_count": 31,
   "metadata": {
    "colab": {
     "base_uri": "https://localhost:8080/",
     "height": 89
    },
    "colab_type": "code",
    "executionInfo": {
     "elapsed": 4272,
     "status": "ok",
     "timestamp": 1595310795561,
     "user": {
      "displayName": "Jinbeom Koo",
      "photoUrl": "https://lh5.googleusercontent.com/-1qcr4du_GY0/AAAAAAAAAAI/AAAAAAAAAEM/g56A3edFKIk/s64/photo.jpg",
      "userId": "00040056695428821008"
     },
     "user_tz": -540
    },
    "id": "X1TysG__1WVG",
    "outputId": "7edeb8dc-a2a5-4bcc-8c46-1b26098c3414"
   },
   "outputs": [
    {
     "name": "stdout",
     "output_type": "stream",
     "text": [
      "apple\n",
      "elppa\n",
      "elppa\n",
      "elppa\n"
     ]
    }
   ],
   "source": [
    "word = input()\n",
    "\n",
    "# 아래에 코드를 작성하시오.\n",
    "\n",
    "ans = ''\n",
    "for alphabet in range(len(word)-1,-1,-1):\n",
    "  ans += word[alphabet]\n",
    "print(ans)\n",
    "\n",
    "ans_str = ''\n",
    "for alphabet in word:\n",
    "  ans_str = alphabet + ans_str\n",
    "print(ans_str)\n",
    "\n",
    "\n",
    "print(word[::-1])\n"
   ]
  }
 ],
 "metadata": {
  "colab": {
   "collapsed_sections": [],
   "name": "0721_practice1.ipynb",
   "provenance": []
  },
  "kernelspec": {
   "display_name": "Python 3",
   "language": "python",
   "name": "python3"
  },
  "language_info": {
   "codemirror_mode": {
    "name": "ipython",
    "version": 3
   },
   "file_extension": ".py",
   "mimetype": "text/x-python",
   "name": "python",
   "nbconvert_exporter": "python",
   "pygments_lexer": "ipython3",
   "version": "3.7.7"
  },
  "toc": {
   "base_numbering": 1,
   "nav_menu": {},
   "number_sections": true,
   "sideBar": true,
   "skip_h1_title": false,
   "title_cell": "Table of Contents",
   "title_sidebar": "Contents",
   "toc_cell": false,
   "toc_position": {},
   "toc_section_display": true,
   "toc_window_display": false
  }
 },
 "nbformat": 4,
 "nbformat_minor": 1
}
